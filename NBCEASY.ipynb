{
 "cells": [
  {
   "cell_type": "code",
   "execution_count": 7,
   "id": "9e6abe78-cb02-401f-b890-14ce3fa6c5be",
   "metadata": {},
   "outputs": [],
   "source": [
    "import pandas as pd\n",
    "from sklearn.model_selection import train_test_split\n",
    "from sklearn.naive_bayes import GaussianNB\n",
    "from sklearn import metrics\n"
   ]
  },
  {
   "cell_type": "code",
   "execution_count": 8,
   "id": "e5d90ea4-2e7f-49a6-8d42-33892e01c146",
   "metadata": {},
   "outputs": [],
   "source": [
    "df = pd.read_csv('diabetes.csv')\n"
   ]
  },
  {
   "cell_type": "code",
   "execution_count": 9,
   "id": "10c9ac52-e171-4de0-a942-5b674f2c624e",
   "metadata": {},
   "outputs": [],
   "source": [
    "feature_col_names = ['Pregnancies','Glucose','BloodPressure','SkinThickness','Insulin','BMI','DiabetesPedigreeFunction','Age']\n",
    "\n"
   ]
  },
  {
   "cell_type": "code",
   "execution_count": 15,
   "id": "612b4b0d-5398-484c-800f-63360067771b",
   "metadata": {},
   "outputs": [],
   "source": [
    "predicted_class_names = ['Outcome']\n"
   ]
  },
  {
   "cell_type": "code",
   "execution_count": 16,
   "id": "72486d49-8790-4f9b-aa5e-e9baf14eb7d6",
   "metadata": {},
   "outputs": [],
   "source": [
    "x = df[feature_col_names].values\n",
    "\n"
   ]
  },
  {
   "cell_type": "code",
   "execution_count": 17,
   "id": "f585191f-fea9-4f83-ad11-8f126809e07c",
   "metadata": {},
   "outputs": [],
   "source": [
    "y = df[predicted_class_names].values"
   ]
  },
  {
   "cell_type": "code",
   "execution_count": 18,
   "id": "11fc5ff8-0b13-4fb8-b1fd-cdc4d806fd46",
   "metadata": {},
   "outputs": [
    {
     "name": "stdout",
     "output_type": "stream",
     "text": [
      "\n",
      " Total number of Training_data : (514, 1)\n",
      "\n",
      " Total number of Test_data : (254, 1)\n",
      "\n",
      " Confusion matrix\n",
      "[[131  25]\n",
      " [ 38  60]]\n",
      "\n",
      " Accuracy of the classifier is: 0.7519685039370079\n",
      "\n",
      " The value of Precision: 0.7058823529411765\n",
      "\n",
      " The value of Recall: 0.6122448979591837\n",
      "Predicted value for individual Test Data: [1]\n"
     ]
    }
   ],
   "source": [
    "xtrain,xtest,ytrain,ytest = train_test_split(x,y,test_size=0.33)\n",
    "print('\\n Total number of Training_data :', ytrain.shape)\n",
    "print('\\n Total number of Test_data :', ytest.shape)\n",
    "clf = GaussianNB().fit(xtrain,ytrain.ravel())\n",
    "predicted = clf.predict(xtest)\n",
    "PredictTestData = clf.predict([[6,148,72,35,0,33.6,0.627,50]])\n",
    "print(\"\\n Confusion matrix\")\n",
    "print(metrics.confusion_matrix(ytest,predicted))\n",
    "print(\"\\n Accuracy of the classifier is:\",metrics.accuracy_score(ytest,predicted))\n",
    "print(\"\\n The value of Precision:\",metrics.precision_score(ytest,predicted))\n",
    "print(\"\\n The value of Recall:\",metrics.recall_score(ytest,predicted))\n",
    "print(\"Predicted value for individual Test Data:\",PredictTestData)\n"
   ]
  },
  {
   "cell_type": "code",
   "execution_count": null,
   "id": "8d1a2b50-8aeb-4fd2-b77d-d1e52ff81b60",
   "metadata": {},
   "outputs": [],
   "source": []
  }
 ],
 "metadata": {
  "kernelspec": {
   "display_name": "Python 3 (ipykernel)",
   "language": "python",
   "name": "python3"
  },
  "language_info": {
   "codemirror_mode": {
    "name": "ipython",
    "version": 3
   },
   "file_extension": ".py",
   "mimetype": "text/x-python",
   "name": "python",
   "nbconvert_exporter": "python",
   "pygments_lexer": "ipython3",
   "version": "3.11.5"
  }
 },
 "nbformat": 4,
 "nbformat_minor": 5
}
